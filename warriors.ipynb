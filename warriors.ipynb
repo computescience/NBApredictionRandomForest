{
 "cells": [
  {
   "cell_type": "code",
   "execution_count": 17,
   "metadata": {},
   "outputs": [],
   "source": [
    "import pandas as pd\n",
    "import numpy as np\n",
    "import matplotlib.pyplot as plt\n",
    "\n",
    "%matplotlib inline"
   ]
  },
  {
   "cell_type": "code",
   "execution_count": 18,
   "metadata": {},
   "outputs": [],
   "source": [
    "stat = pd.read_excel(\"warriorstat.xlsx\")"
   ]
  },
  {
   "cell_type": "code",
   "execution_count": 19,
   "metadata": {},
   "outputs": [
    {
     "data": {
      "text/html": [
       "<div>\n",
       "<style scoped>\n",
       "    .dataframe tbody tr th:only-of-type {\n",
       "        vertical-align: middle;\n",
       "    }\n",
       "\n",
       "    .dataframe tbody tr th {\n",
       "        vertical-align: top;\n",
       "    }\n",
       "\n",
       "    .dataframe thead th {\n",
       "        text-align: right;\n",
       "    }\n",
       "</style>\n",
       "<table border=\"1\" class=\"dataframe\">\n",
       "  <thead>\n",
       "    <tr style=\"text-align: right;\">\n",
       "      <th></th>\n",
       "      <th>MATCH UP</th>\n",
       "      <th>W/L</th>\n",
       "      <th>MIN</th>\n",
       "      <th>OFFRTG</th>\n",
       "      <th>DEFRTG</th>\n",
       "      <th>NETRTG</th>\n",
       "      <th>AST%</th>\n",
       "      <th>AST/TO</th>\n",
       "      <th>AST</th>\n",
       "      <th>OREB%</th>\n",
       "      <th>DREB%</th>\n",
       "      <th>REB%</th>\n",
       "      <th>TOV%</th>\n",
       "      <th>EFG%</th>\n",
       "      <th>TS%</th>\n",
       "      <th>PACE</th>\n",
       "      <th>PIE</th>\n",
       "    </tr>\n",
       "  </thead>\n",
       "  <tbody>\n",
       "    <tr>\n",
       "      <th>0</th>\n",
       "      <td>NaN</td>\n",
       "      <td>NaN</td>\n",
       "      <td>NaN</td>\n",
       "      <td>NaN</td>\n",
       "      <td>NaN</td>\n",
       "      <td>NaN</td>\n",
       "      <td>NaN</td>\n",
       "      <td>NaN</td>\n",
       "      <td>RATIO</td>\n",
       "      <td>NaN</td>\n",
       "      <td>NaN</td>\n",
       "      <td>NaN</td>\n",
       "      <td>NaN</td>\n",
       "      <td>NaN</td>\n",
       "      <td>NaN</td>\n",
       "      <td>NaN</td>\n",
       "      <td>NaN</td>\n",
       "    </tr>\n",
       "    <tr>\n",
       "      <th>1</th>\n",
       "      <td>Feb 01, 2022 - GSW @ SAS</td>\n",
       "      <td>W</td>\n",
       "      <td>48.0</td>\n",
       "      <td>122.8</td>\n",
       "      <td>120.0</td>\n",
       "      <td>2.8</td>\n",
       "      <td>69.8</td>\n",
       "      <td>1.88</td>\n",
       "      <td>19.7</td>\n",
       "      <td>41.5</td>\n",
       "      <td>85.0</td>\n",
       "      <td>60.2</td>\n",
       "      <td>15.8</td>\n",
       "      <td>55.2</td>\n",
       "      <td>59.7</td>\n",
       "      <td>100.5</td>\n",
       "      <td>49.2</td>\n",
       "    </tr>\n",
       "    <tr>\n",
       "      <th>2</th>\n",
       "      <td>Jan 31, 2022 - GSW @ HOU</td>\n",
       "      <td>W</td>\n",
       "      <td>48.0</td>\n",
       "      <td>124.5</td>\n",
       "      <td>111.3</td>\n",
       "      <td>13.1</td>\n",
       "      <td>53.5</td>\n",
       "      <td>1.53</td>\n",
       "      <td>17.7</td>\n",
       "      <td>23.7</td>\n",
       "      <td>67.9</td>\n",
       "      <td>49.5</td>\n",
       "      <td>15.3</td>\n",
       "      <td>64.4</td>\n",
       "      <td>67.7</td>\n",
       "      <td>97.5</td>\n",
       "      <td>59.9</td>\n",
       "    </tr>\n",
       "    <tr>\n",
       "      <th>3</th>\n",
       "      <td>Jan 29, 2022 - GSW vs. BKN</td>\n",
       "      <td>W</td>\n",
       "      <td>48.0</td>\n",
       "      <td>111.1</td>\n",
       "      <td>109.3</td>\n",
       "      <td>1.8</td>\n",
       "      <td>60.0</td>\n",
       "      <td>2.00</td>\n",
       "      <td>16.4</td>\n",
       "      <td>38.3</td>\n",
       "      <td>65.6</td>\n",
       "      <td>52.1</td>\n",
       "      <td>12.1</td>\n",
       "      <td>48.0</td>\n",
       "      <td>51.9</td>\n",
       "      <td>98.0</td>\n",
       "      <td>51.3</td>\n",
       "    </tr>\n",
       "    <tr>\n",
       "      <th>4</th>\n",
       "      <td>Jan 27, 2022 - GSW vs. MIN</td>\n",
       "      <td>W</td>\n",
       "      <td>48.0</td>\n",
       "      <td>119.2</td>\n",
       "      <td>111.7</td>\n",
       "      <td>7.6</td>\n",
       "      <td>70.5</td>\n",
       "      <td>1.63</td>\n",
       "      <td>21.4</td>\n",
       "      <td>23.8</td>\n",
       "      <td>74.5</td>\n",
       "      <td>52.6</td>\n",
       "      <td>18.3</td>\n",
       "      <td>66.5</td>\n",
       "      <td>68.0</td>\n",
       "      <td>103.5</td>\n",
       "      <td>54.2</td>\n",
       "    </tr>\n",
       "  </tbody>\n",
       "</table>\n",
       "</div>"
      ],
      "text/plain": [
       "                     MATCH UP  W/L   MIN  OFFRTG  DEFRTG  NETRTG  AST%  \\\n",
       "0                         NaN  NaN   NaN     NaN     NaN     NaN   NaN   \n",
       "1    Feb 01, 2022 - GSW @ SAS    W  48.0   122.8   120.0     2.8  69.8   \n",
       "2    Jan 31, 2022 - GSW @ HOU    W  48.0   124.5   111.3    13.1  53.5   \n",
       "3  Jan 29, 2022 - GSW vs. BKN    W  48.0   111.1   109.3     1.8  60.0   \n",
       "4  Jan 27, 2022 - GSW vs. MIN    W  48.0   119.2   111.7     7.6  70.5   \n",
       "\n",
       "   AST/TO    AST  OREB%  DREB%  REB%  TOV%  EFG%   TS%   PACE   PIE  \n",
       "0     NaN  RATIO    NaN    NaN   NaN   NaN   NaN   NaN    NaN   NaN  \n",
       "1    1.88   19.7   41.5   85.0  60.2  15.8  55.2  59.7  100.5  49.2  \n",
       "2    1.53   17.7   23.7   67.9  49.5  15.3  64.4  67.7   97.5  59.9  \n",
       "3    2.00   16.4   38.3   65.6  52.1  12.1  48.0  51.9   98.0  51.3  \n",
       "4    1.63   21.4   23.8   74.5  52.6  18.3  66.5  68.0  103.5  54.2  "
      ]
     },
     "execution_count": 19,
     "metadata": {},
     "output_type": "execute_result"
    }
   ],
   "source": [
    "stat.head()"
   ]
  },
  {
   "cell_type": "code",
   "execution_count": 20,
   "metadata": {},
   "outputs": [],
   "source": [
    "stat.dropna(inplace=True)"
   ]
  },
  {
   "cell_type": "code",
   "execution_count": 21,
   "metadata": {},
   "outputs": [
    {
     "data": {
      "text/html": [
       "<div>\n",
       "<style scoped>\n",
       "    .dataframe tbody tr th:only-of-type {\n",
       "        vertical-align: middle;\n",
       "    }\n",
       "\n",
       "    .dataframe tbody tr th {\n",
       "        vertical-align: top;\n",
       "    }\n",
       "\n",
       "    .dataframe thead th {\n",
       "        text-align: right;\n",
       "    }\n",
       "</style>\n",
       "<table border=\"1\" class=\"dataframe\">\n",
       "  <thead>\n",
       "    <tr style=\"text-align: right;\">\n",
       "      <th></th>\n",
       "      <th>MATCH UP</th>\n",
       "      <th>W/L</th>\n",
       "      <th>MIN</th>\n",
       "      <th>OFFRTG</th>\n",
       "      <th>DEFRTG</th>\n",
       "      <th>NETRTG</th>\n",
       "      <th>AST%</th>\n",
       "      <th>AST/TO</th>\n",
       "      <th>AST</th>\n",
       "      <th>OREB%</th>\n",
       "      <th>DREB%</th>\n",
       "      <th>REB%</th>\n",
       "      <th>TOV%</th>\n",
       "      <th>EFG%</th>\n",
       "      <th>TS%</th>\n",
       "      <th>PACE</th>\n",
       "      <th>PIE</th>\n",
       "    </tr>\n",
       "  </thead>\n",
       "  <tbody>\n",
       "    <tr>\n",
       "      <th>1</th>\n",
       "      <td>Feb 01, 2022 - GSW @ SAS</td>\n",
       "      <td>W</td>\n",
       "      <td>48.0</td>\n",
       "      <td>122.8</td>\n",
       "      <td>120.0</td>\n",
       "      <td>2.8</td>\n",
       "      <td>69.8</td>\n",
       "      <td>1.88</td>\n",
       "      <td>19.7</td>\n",
       "      <td>41.5</td>\n",
       "      <td>85.0</td>\n",
       "      <td>60.2</td>\n",
       "      <td>15.8</td>\n",
       "      <td>55.2</td>\n",
       "      <td>59.7</td>\n",
       "      <td>100.5</td>\n",
       "      <td>49.2</td>\n",
       "    </tr>\n",
       "    <tr>\n",
       "      <th>2</th>\n",
       "      <td>Jan 31, 2022 - GSW @ HOU</td>\n",
       "      <td>W</td>\n",
       "      <td>48.0</td>\n",
       "      <td>124.5</td>\n",
       "      <td>111.3</td>\n",
       "      <td>13.1</td>\n",
       "      <td>53.5</td>\n",
       "      <td>1.53</td>\n",
       "      <td>17.7</td>\n",
       "      <td>23.7</td>\n",
       "      <td>67.9</td>\n",
       "      <td>49.5</td>\n",
       "      <td>15.3</td>\n",
       "      <td>64.4</td>\n",
       "      <td>67.7</td>\n",
       "      <td>97.5</td>\n",
       "      <td>59.9</td>\n",
       "    </tr>\n",
       "    <tr>\n",
       "      <th>3</th>\n",
       "      <td>Jan 29, 2022 - GSW vs. BKN</td>\n",
       "      <td>W</td>\n",
       "      <td>48.0</td>\n",
       "      <td>111.1</td>\n",
       "      <td>109.3</td>\n",
       "      <td>1.8</td>\n",
       "      <td>60.0</td>\n",
       "      <td>2.00</td>\n",
       "      <td>16.4</td>\n",
       "      <td>38.3</td>\n",
       "      <td>65.6</td>\n",
       "      <td>52.1</td>\n",
       "      <td>12.1</td>\n",
       "      <td>48.0</td>\n",
       "      <td>51.9</td>\n",
       "      <td>98.0</td>\n",
       "      <td>51.3</td>\n",
       "    </tr>\n",
       "    <tr>\n",
       "      <th>4</th>\n",
       "      <td>Jan 27, 2022 - GSW vs. MIN</td>\n",
       "      <td>W</td>\n",
       "      <td>48.0</td>\n",
       "      <td>119.2</td>\n",
       "      <td>111.7</td>\n",
       "      <td>7.6</td>\n",
       "      <td>70.5</td>\n",
       "      <td>1.63</td>\n",
       "      <td>21.4</td>\n",
       "      <td>23.8</td>\n",
       "      <td>74.5</td>\n",
       "      <td>52.6</td>\n",
       "      <td>18.3</td>\n",
       "      <td>66.5</td>\n",
       "      <td>68.0</td>\n",
       "      <td>103.5</td>\n",
       "      <td>54.2</td>\n",
       "    </tr>\n",
       "    <tr>\n",
       "      <th>5</th>\n",
       "      <td>Jan 25, 2022 - GSW vs. DAL</td>\n",
       "      <td>W</td>\n",
       "      <td>48.0</td>\n",
       "      <td>131.3</td>\n",
       "      <td>92.9</td>\n",
       "      <td>38.4</td>\n",
       "      <td>63.3</td>\n",
       "      <td>2.21</td>\n",
       "      <td>21.5</td>\n",
       "      <td>31.8</td>\n",
       "      <td>78.0</td>\n",
       "      <td>58.3</td>\n",
       "      <td>14.1</td>\n",
       "      <td>62.5</td>\n",
       "      <td>65.1</td>\n",
       "      <td>99.0</td>\n",
       "      <td>68.4</td>\n",
       "    </tr>\n",
       "  </tbody>\n",
       "</table>\n",
       "</div>"
      ],
      "text/plain": [
       "                     MATCH UP W/L   MIN  OFFRTG  DEFRTG  NETRTG  AST%  AST/TO  \\\n",
       "1    Feb 01, 2022 - GSW @ SAS   W  48.0   122.8   120.0     2.8  69.8    1.88   \n",
       "2    Jan 31, 2022 - GSW @ HOU   W  48.0   124.5   111.3    13.1  53.5    1.53   \n",
       "3  Jan 29, 2022 - GSW vs. BKN   W  48.0   111.1   109.3     1.8  60.0    2.00   \n",
       "4  Jan 27, 2022 - GSW vs. MIN   W  48.0   119.2   111.7     7.6  70.5    1.63   \n",
       "5  Jan 25, 2022 - GSW vs. DAL   W  48.0   131.3    92.9    38.4  63.3    2.21   \n",
       "\n",
       "    AST  OREB%  DREB%  REB%  TOV%  EFG%   TS%   PACE   PIE  \n",
       "1  19.7   41.5   85.0  60.2  15.8  55.2  59.7  100.5  49.2  \n",
       "2  17.7   23.7   67.9  49.5  15.3  64.4  67.7   97.5  59.9  \n",
       "3  16.4   38.3   65.6  52.1  12.1  48.0  51.9   98.0  51.3  \n",
       "4  21.4   23.8   74.5  52.6  18.3  66.5  68.0  103.5  54.2  \n",
       "5  21.5   31.8   78.0  58.3  14.1  62.5  65.1   99.0  68.4  "
      ]
     },
     "execution_count": 21,
     "metadata": {},
     "output_type": "execute_result"
    }
   ],
   "source": [
    "stat.head()"
   ]
  },
  {
   "cell_type": "code",
   "execution_count": 22,
   "metadata": {},
   "outputs": [],
   "source": [
    "y = stat['W/L']"
   ]
  },
  {
   "cell_type": "code",
   "execution_count": 23,
   "metadata": {},
   "outputs": [
    {
     "data": {
      "text/plain": [
       "Index(['MATCH UP', 'W/L', 'MIN', 'OFFRTG', 'DEFRTG', 'NETRTG', 'AST%',\n",
       "       'AST/TO', 'AST', 'OREB%', 'DREB%', 'REB%', 'TOV%', 'EFG%', 'TS%',\n",
       "       'PACE', 'PIE'],\n",
       "      dtype='object')"
      ]
     },
     "execution_count": 23,
     "metadata": {},
     "output_type": "execute_result"
    }
   ],
   "source": [
    "stat.columns"
   ]
  },
  {
   "cell_type": "code",
   "execution_count": 24,
   "metadata": {},
   "outputs": [],
   "source": [
    "X = stat[['OFFRTG', 'DEFRTG', 'NETRTG', 'AST%',\n",
    "       'AST/TO', 'AST', 'OREB%', 'DREB%', 'REB%', 'TOV%', 'EFG%', 'TS%',\n",
    "       'PACE', 'PIE']]"
   ]
  },
  {
   "cell_type": "code",
   "execution_count": 25,
   "metadata": {},
   "outputs": [],
   "source": [
    "from sklearn.ensemble import RandomForestClassifier\n",
    "from sklearn.model_selection import train_test_split\n",
    "from sklearn.metrics import accuracy_score\n",
    "from sklearn.model_selection import cross_validate\n",
    "from sklearn.metrics import classification_report, confusion_matrix"
   ]
  },
  {
   "cell_type": "code",
   "execution_count": 26,
   "metadata": {},
   "outputs": [
    {
     "name": "stdout",
     "output_type": "stream",
     "text": [
      "Accuracy score 1.0\n",
      "[[ 3  0]\n",
      " [ 0 15]]\n",
      "              precision    recall  f1-score   support\n",
      "\n",
      "           L       1.00      1.00      1.00         3\n",
      "           W       1.00      1.00      1.00        15\n",
      "\n",
      "    accuracy                           1.00        18\n",
      "   macro avg       1.00      1.00      1.00        18\n",
      "weighted avg       1.00      1.00      1.00        18\n",
      "\n",
      "cross validatoin results {'fit_time': array([0.03893614, 0.03395033, 0.0339067 , 0.03390861, 0.03785896]), 'score_time': array([0.0039928 , 0.00398803, 0.00498939, 0.00398469, 0.004987  ]), 'test_score': array([1., 1., 1., 1., 1.])}\n"
     ]
    }
   ],
   "source": [
    "X_train, X_test, y_train, y_test = train_test_split(X, y, test_size=0.33, random_state=42)\n",
    "clf = RandomForestClassifier(n_estimators = 30, random_state=0)\n",
    "clf.fit(X_train, y_train)\n",
    "\n",
    "y_pred = clf.predict(X_test)\n",
    "print('Accuracy score',accuracy_score(y_test, y_pred))\n",
    "cv_results = cross_validate(clf, X, y, cv=5)\n",
    "print(confusion_matrix(y_test, y_pred))\n",
    "print(classification_report(y_test, y_pred))\n",
    "\n",
    "print('cross validatoin results', cv_results)"
   ]
  },
  {
   "cell_type": "code",
   "execution_count": 27,
   "metadata": {},
   "outputs": [
    {
     "name": "stdout",
     "output_type": "stream",
     "text": [
      "[ 2 13 11 10  0  1  5  4  3  7  8  6 12  9]\n"
     ]
    },
    {
     "data": {
      "image/png": "[encoded data removed]",
      "text/plain": [
       "<Figure size 432x288 with 1 Axes>"
      ]
     },
     "metadata": {},
     "output_type": "display_data"
    }
   ],
   "source": [
    "importances = clf.feature_importances_\n",
    "sorted_indices = np.argsort(importances)[::-1]\n",
    "print(sorted_indices)\n",
    "#feature_names = [f\"feature {i}\" for i in range(X.shape[1])]\n",
    "feature_names=X.columns\n",
    "forest_importances = pd.Series(importances, index=feature_names)\n",
    "std = np.std([tree.feature_importances_ for tree in clf.estimators_], axis=0)\n",
    "fig, ax = plt.subplots()\n",
    "forest_importances.plot.bar(yerr=std, ax=ax)\n",
    "ax.set_title(\"Feature importances using MDI\")\n",
    "ax.set_ylabel(\"Mean decrease in impurity\")\n",
    "fig.tight_layout()"
   ]
  },
  {
   "cell_type": "code",
   "execution_count": 28,
   "metadata": {},
   "outputs": [
    {
     "data": {
      "text/plain": [
       "<AxesSubplot:>"
      ]
     },
     "execution_count": 28,
     "metadata": {},
     "output_type": "execute_result"
    },
    {
     "data": {
      "image/png": "[encoded data removed]",
      "text/plain": [
       "<Figure size 432x288 with 1 Axes>"
      ]
     },
     "metadata": {},
     "output_type": "display_data"
    }
   ],
   "source": [
    "pd.Series(clf.feature_importances_, index=X.columns).nlargest(13).plot(kind='barh')"
   ]
  },
  {
   "cell_type": "markdown",
   "metadata": {},
   "source": [
    "The random forest model showed powerful prediction of 100% for the basketball match results! Rebound difference is the most important. More offense rebound will lead the win!"
   ]
  },
  {
   "cell_type": "code",
   "execution_count": null,
   "metadata": {},
   "outputs": [],
   "source": []
  }
 ],
 "metadata": {
  "kernelspec": {
   "display_name": "Python 3",
   "language": "python",
   "name": "python3"
  },
  "language_info": {
   "codemirror_mode": {
    "name": "ipython",
    "version": 3
   },
   "file_extension": ".py",
   "mimetype": "text/x-python",
   "name": "python",
   "nbconvert_exporter": "python",
   "pygments_lexer": "ipython3",
   "version": "3.6.4"
  }
 },
 "nbformat": 4,
 "nbformat_minor": 2
}
